{
 "cells": [
  {
   "cell_type": "code",
   "execution_count": 2,
   "metadata": {},
   "outputs": [
    {
     "name": "stdout",
     "output_type": "stream",
     "text": [
      "       tconst  averageRating  numVotes          Rank titleType  \\\n",
      "0   tt0111161            9.3   2664730  23778.866209     movie   \n",
      "1   tt0468569            9.0   2637712  22778.486695     movie   \n",
      "2   tt1375666            8.8   2337470  19737.116350     movie   \n",
      "4   tt0137523            8.8   2110139  17817.580101     movie   \n",
      "5   tt0109830            8.8   2065438  17440.134043     movie   \n",
      "6   tt0110912            8.9   2039646  17418.060237     movie   \n",
      "8   tt0068646            9.2   1846637  16301.378968     movie   \n",
      "9   tt0133093            8.7   1903927  15893.682344     movie   \n",
      "10  tt0167260            9.0   1837114  15864.763403     movie   \n",
      "11  tt0120737            8.8   1866219  15757.969744     movie   \n",
      "12  tt0816692            8.6   1811519  14948.455681     movie   \n",
      "13  tt0167261            8.8   1658846  14006.954746     movie   \n",
      "14  tt1345836            8.4   1697605  13682.671969     movie   \n",
      "15  tt0114369            8.6   1642547  13554.117309     movie   \n",
      "16  tt1853728            8.4   1544109  12445.496409     movie   \n",
      "\n",
      "                                        originalTitle  \n",
      "0                            The Shawshank Redemption  \n",
      "1                                     The Dark Knight  \n",
      "2                                           Inception  \n",
      "4                                          Fight Club  \n",
      "5                                        Forrest Gump  \n",
      "6                                        Pulp Fiction  \n",
      "8                                       The Godfather  \n",
      "9                                          The Matrix  \n",
      "10      The Lord of the Rings: The Return of the King  \n",
      "11  The Lord of the Rings: The Fellowship of the Ring  \n",
      "12                                       Interstellar  \n",
      "13              The Lord of the Rings: The Two Towers  \n",
      "14                              The Dark Knight Rises  \n",
      "15                                              Se7en  \n",
      "16                                   Django Unchained  \n",
      "['The Shawshank Redemption', 'The Dark Knight', 'Inception', 'Fight Club', 'Forrest Gump', 'Pulp Fiction', 'The Godfather', 'The Matrix', 'The Lord of the Rings: The Return of the King', 'The Lord of the Rings: The Fellowship of the Ring', 'Interstellar', 'The Lord of the Rings: The Two Towers', 'The Dark Knight Rises', 'Se7en', 'Django Unchained']\n"
     ]
    }
   ],
   "source": [
    "import pandas as pd\n",
    "import requests, io\n",
    "\n",
    "RATINGSURL = 'https://datasets.imdbws.com/title.ratings.tsv.gz'\n",
    "TITLESURL = 'https://datasets.imdbws.com/title.basics.tsv.gz'\n",
    "TOP_N = 15\n",
    "NUM_VOTES = 100\n",
    "\n",
    "def get_file_data(url):\n",
    "    file_from_url = requests.get(url)\n",
    "\n",
    "\n",
    "    return file_from_url.content\n",
    "\n",
    "def get_top_n_movies(top_n, min_votes, df_ratings, df_titles):\n",
    "    df_titles_main = df_titles[['tconst', 'titleType', 'originalTitle']]\n",
    "    df_ratings['Rank'] = (df_ratings['numVotes'] / df_ratings['numVotes'].mean()) * df_ratings['averageRating']\n",
    "    df_rank = df_ratings[df_ratings['numVotes'] >= min_votes].sort_values('Rank', ascending = False)\n",
    "    df_ranked_titles = df_rank.merge(df_titles_main, on='tconst')\n",
    "    df_top_n_movies_data = df_ranked_titles[df_ranked_titles['titleType'].str.match('movie')].head(top_n)\n",
    "    df_top_n_movies_list = df_top_n_movies_data['originalTitle'].tolist()\n",
    "    \n",
    "    \n",
    "    return df_top_n_movies_data, df_top_n_movies_list\n",
    "\n",
    "if __name__ == '__main__':\n",
    "\n",
    "    df_ratings = pd.read_csv(io.BytesIO(get_file_data(RATINGSURL)), sep = ('\\t'), compression ='gzip', low_memory = False)\n",
    "    df_titles = pd.read_csv(io.BytesIO(get_file_data(TITLESURL)), sep = ('\\t'), compression ='gzip', low_memory = False)\n",
    "\n",
    "    top_15_movies_data, top_15_movies_list = get_top_n_movies(TOP_N, NUM_VOTES, df_ratings, df_titles)\n",
    "\n",
    "    print(top_15_movies_data)\n",
    "    print(top_15_movies_list)"
   ]
  }
 ],
 "metadata": {
  "kernelspec": {
   "display_name": "Python 3.10.8 ('env': venv)",
   "language": "python",
   "name": "python3"
  },
  "language_info": {
   "codemirror_mode": {
    "name": "ipython",
    "version": 3
   },
   "file_extension": ".py",
   "mimetype": "text/x-python",
   "name": "python",
   "nbconvert_exporter": "python",
   "pygments_lexer": "ipython3",
   "version": "3.10.8"
  },
  "orig_nbformat": 4,
  "vscode": {
   "interpreter": {
    "hash": "77a6a277e8557ce94de63f5ea3443e19e346dcba5684d9188c0021218f1e89b4"
   }
  }
 },
 "nbformat": 4,
 "nbformat_minor": 2
}
